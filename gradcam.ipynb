{
 "cells": [
  {
   "cell_type": "markdown",
   "metadata": {},
   "source": [
    "# Input"
   ]
  },
  {
   "cell_type": "code",
   "execution_count": 1,
   "metadata": {},
   "outputs": [],
   "source": [
    "import os\n",
    "import pandas as pd\n",
    "import yaml\n",
    "import torch\n",
    "from warnings import filterwarnings\n",
    "filterwarnings(\"ignore\")"
   ]
  },
  {
   "cell_type": "code",
   "execution_count": 2,
   "metadata": {},
   "outputs": [],
   "source": [
    "DATASET_PARAMS = yaml.load(open(\"configs/uc_infeksi/dataset.yaml\"), Loader=yaml.SafeLoader)\n",
    "PREPROCESSING_PARAMS = yaml.load(open(\"configs/uc_infeksi/preprocessing.yaml\"), Loader=yaml.SafeLoader)\n",
    "MODEL_NAME = yaml.load(open(\"configs/uc_infeksi/model.yaml\"), Loader=yaml.SafeLoader)['MODEL_NAME']\n",
    "MODEL_PARAMS = yaml.load(open(\"configs/uc_infeksi/model.yaml\"), Loader=yaml.SafeLoader)[MODEL_NAME]\n",
    "TRAINING_PARAMS = yaml.load(open(\"configs/uc_infeksi/training.yaml\"), Loader=yaml.SafeLoader)"
   ]
  },
  {
   "cell_type": "code",
   "execution_count": 3,
   "metadata": {},
   "outputs": [],
   "source": [
    "categories =  DATASET_PARAMS['CATEGORIES']\n",
    "\n",
    "BASE_DIR = os.getcwd()\n",
    "DATASET_DIR = os.path.join(BASE_DIR, DATASET_PARAMS['DATA_PATH'])\n",
    "\n",
    "TRAIN_DIR = os.path.join(DATASET_DIR, \"train\")\n",
    "VAL_DIR = os.path.join(DATASET_DIR, \"val\")\n",
    "TEST_DIR = os.path.join(DATASET_DIR, \"test\")"
   ]
  },
  {
   "cell_type": "code",
   "execution_count": 4,
   "metadata": {},
   "outputs": [
    {
     "name": "stdout",
     "output_type": "stream",
     "text": [
      "Using device: cuda\n"
     ]
    }
   ],
   "source": [
    "from src.utils import get_device, set_seed\n",
    "\n",
    "set_seed(DATASET_PARAMS['SEED'])\n",
    "DEVICE = get_device()\n",
    "print(f\"Using device: {DEVICE}\")"
   ]
  },
  {
   "cell_type": "markdown",
   "metadata": {},
   "source": [
    "# Dataset"
   ]
  },
  {
   "cell_type": "code",
   "execution_count": 5,
   "metadata": {},
   "outputs": [],
   "source": [
    "from src.utils import split_dataset"
   ]
  },
  {
   "cell_type": "code",
   "execution_count": 6,
   "metadata": {},
   "outputs": [
    {
     "name": "stdout",
     "output_type": "stream",
     "text": [
      "subdirectories: ['infeksi', 'uc']\n",
      "subdirectory: infeksi\n",
      "subdirectory: uc\n",
      "subdirectory: infeksi\\infeksi_non_spesifik\n",
      "subdirectory: uc\\changsu\n",
      "subdirectory: uc\\hyperkvasir\n",
      "subdirectory: uc\\limuc\n",
      "subdirectory: uc\\limuc_cropped\n",
      "subdirectory: uc\\changsu\\uc_1\n",
      "subdirectory: uc\\changsu\\uc_2\n",
      "subdirectory: uc\\changsu\\uc_3\n",
      "subdirectory: uc\\hyperkvasir\\uc_1\n",
      "subdirectory: uc\\hyperkvasir\\uc_2\n",
      "subdirectory: uc\\hyperkvasir\\uc_3\n",
      "subdirectory: uc\\limuc\\uc_1\n",
      "subdirectory: uc\\limuc\\uc_2\n",
      "subdirectory: uc\\limuc\\uc_3\n"
     ]
    }
   ],
   "source": [
    "train_filenames_df, val_filenames_df, test_filenames_df = split_dataset(DATASET_DIR, \n",
    "                                                                        categories, \n",
    "                                                                        DATASET_PARAMS['UC_SOURCE'], \n",
    "                                                                        shuffle=DATASET_PARAMS['IS_SHUFFLE'], \n",
    "                                                                        seed=DATASET_PARAMS['SEED'], \n",
    "                                                                        split_ratio=DATASET_PARAMS['SPLIT_RATIO'])"
   ]
  },
  {
   "cell_type": "code",
   "execution_count": 7,
   "metadata": {},
   "outputs": [],
   "source": [
    "from src.preprocessing import preprocess\n",
    "\n",
    "target_input_size = tuple(PREPROCESSING_PARAMS['INPUT_SIZE'])\n",
    "train_transform = preprocess(\n",
    "    target_input_size=target_input_size,\n",
    "    rotation_range=PREPROCESSING_PARAMS['ROTATION_RANGE'],\n",
    "    width_shift_range=PREPROCESSING_PARAMS['WIDTH_SHIFT_RANGE'],\n",
    "    height_shift_range=PREPROCESSING_PARAMS['HEIGHT_SHIFT_RANGE'],\n",
    "    brightness_range=PREPROCESSING_PARAMS['BRIGHTNESS_RANGE'],\n",
    "    zoom_range=PREPROCESSING_PARAMS['ZOOM_RANGE'],\n",
    "    horizontal_flip=PREPROCESSING_PARAMS['HORIZONTAL_FLIP'],\n",
    "    vertical_flip=PREPROCESSING_PARAMS['VERTICAL_FLIP'],\n",
    "    channel_shift_range=PREPROCESSING_PARAMS['CHANNEL_SHIFT_RANGE'],\n",
    "    fill_mode=PREPROCESSING_PARAMS['FILL_MODE'],\n",
    "    shear_range=PREPROCESSING_PARAMS['SHEAR_RANGE']\n",
    "    )\n",
    "\n",
    "val_transform = preprocess(target_input_size=target_input_size) # only rescaling"
   ]
  },
  {
   "cell_type": "code",
   "execution_count": 8,
   "metadata": {},
   "outputs": [],
   "source": [
    "from src.dataset import Dataset\n",
    "\n",
    "train_dataset = Dataset(dataframe=train_filenames_df, \n",
    "                        categories=DATASET_PARAMS['CATEGORIES'],\n",
    "                        transform=train_transform, \n",
    "                        seed=42, \n",
    "                        shuffle=False)\n",
    "\n",
    "val_dataset = Dataset(dataframe=val_filenames_df, \n",
    "                      categories=DATASET_PARAMS['CATEGORIES'],\n",
    "                      transform=val_transform, \n",
    "                      seed=42, \n",
    "                      shuffle=False)\n",
    "\n",
    "test_dataset = Dataset(dataframe=test_filenames_df, \n",
    "                      categories=DATASET_PARAMS['CATEGORIES'],\n",
    "                      transform=val_transform, \n",
    "                      seed=42, \n",
    "                      shuffle=False)"
   ]
  },
  {
   "cell_type": "markdown",
   "metadata": {},
   "source": [
    "## Train loader"
   ]
  },
  {
   "cell_type": "code",
   "execution_count": 9,
   "metadata": {},
   "outputs": [],
   "source": [
    "from torch.utils.data import DataLoader\n",
    "\n",
    "train_loader = DataLoader(train_dataset, \n",
    "                          batch_size=TRAINING_PARAMS['BATCH_SIZE'], \n",
    "                          shuffle=False, \n",
    "                          num_workers=TRAINING_PARAMS['NUM_WORKERS'])\n",
    "\n",
    "val_loader = DataLoader(val_dataset, \n",
    "                          batch_size=TRAINING_PARAMS['BATCH_SIZE'], \n",
    "                          shuffle=False, \n",
    "                          num_workers=TRAINING_PARAMS['NUM_WORKERS'])\n",
    "\n",
    "#if test_dataset exist\n",
    "if test_dataset:\n",
    "    test_loader = DataLoader(test_dataset, \n",
    "                             batch_size=TRAINING_PARAMS['BATCH_SIZE'], \n",
    "                             shuffle=False, \n",
    "                             num_workers=TRAINING_PARAMS['NUM_WORKERS'])"
   ]
  },
  {
   "cell_type": "code",
   "execution_count": 10,
   "metadata": {},
   "outputs": [],
   "source": [
    "from src.utils import load_model\n",
    "\n",
    "model = load_model(\"artifacts/densenet121/epoch_24.pth\", num_classes=2, dropout_rate=0.25)\n",
    "model = model.to(DEVICE)"
   ]
  },
  {
   "cell_type": "code",
   "execution_count": 11,
   "metadata": {},
   "outputs": [],
   "source": [
    "num_classes = len(categories)\n",
    "# metrics\n",
    "from torcheval.metrics import (\n",
    "    BinaryAccuracy,\n",
    "    BinaryF1Score,\n",
    "    BinaryPrecision,\n",
    "    BinaryAUROC,\n",
    "    BinaryRecall    \n",
    ")\n",
    "\n",
    "test_metrics = {\n",
    "    \"binary_auroc\": BinaryAUROC(device=DEVICE),\n",
    "    \"accuracy\": BinaryAccuracy(device=DEVICE),\n",
    "    \"f1_score\": BinaryF1Score(device=DEVICE),\n",
    "    \"precision\": BinaryPrecision(device=DEVICE),\n",
    "    \"recall\": BinaryRecall(device=DEVICE),\n",
    "}"
   ]
  },
  {
   "cell_type": "code",
   "execution_count": 12,
   "metadata": {},
   "outputs": [
    {
     "name": "stdout",
     "output_type": "stream",
     "text": [
      "Processed 8 samples\n",
      "Processed 88 samples\n",
      "Processed 168 samples\n",
      "Processed 248 samples\n",
      "Processed 328 samples\n",
      "Processed 408 samples\n"
     ]
    }
   ],
   "source": [
    "from src.xdl import plot_XDL_GradCAM\n",
    "\n",
    "plot_XDL_GradCAM(model = model, \n",
    "                 test_loader = test_loader, \n",
    "                 device = DEVICE, \n",
    "                 print_img = False, \n",
    "                 num_samples = len(test_loader.dataset.dataframe), \n",
    "                 save_path = \"outputs/gradcam_revised/limuc_cropped_novasir\",\n",
    "                 fontsize = 14)"
   ]
  },
  {
   "cell_type": "code",
   "execution_count": 12,
   "metadata": {},
   "outputs": [
    {
     "name": "stderr",
     "output_type": "stream",
     "text": [
      "Testing:   0%|          | 0/56 [00:00<?, ?it/s]"
     ]
    },
    {
     "name": "stderr",
     "output_type": "stream",
     "text": [
      "Testing: 100%|██████████| 56/56 [00:23<00:00,  2.43it/s]\n"
     ]
    },
    {
     "data": {
      "text/plain": [
       "{'binary_auroc': 0.8763697419582891,\n",
       " 'accuracy': 0.8247190713882446,\n",
       " 'f1_score': 0.7577639818191528,\n",
       " 'precision': 0.6130653023719788,\n",
       " 'recall': 0.9918699264526367}"
      ]
     },
     "execution_count": 12,
     "metadata": {},
     "output_type": "execute_result"
    }
   ],
   "source": [
    "from src.test import test\n",
    "\n",
    "raw_predictions, predicted_indices_flattened, target_indices_flattened,test_metrics = test(model = model, test_loader= test_loader, device = DEVICE, metrics=test_metrics)\n",
    "test_metrics"
   ]
  },
  {
   "cell_type": "code",
   "execution_count": 13,
   "metadata": {},
   "outputs": [
    {
     "data": {
      "image/png": "[encoded data removed]",
      "text/plain": [
       "<Figure size 1000x800 with 2 Axes>"
      ]
     },
     "metadata": {},
     "output_type": "display_data"
    }
   ],
   "source": [
    "from sklearn.metrics import confusion_matrix\n",
    "import seaborn as sns\n",
    "import matplotlib.pyplot as plt\n",
    "import numpy as np\n",
    "\n",
    "\n",
    "# Calculate confusion matrix\n",
    "cm = confusion_matrix(target_indices_flattened, predicted_indices_flattened)\n",
    "\n",
    "# Create figure and axis\n",
    "plt.figure(figsize=(10, 8))\n",
    "\n",
    "# Create heatmap\n",
    "sns.heatmap(cm, annot=True, fmt='d', cmap='Blues',\n",
    "            xticklabels=['UC', 'Infeksi'],\n",
    "            yticklabels=['UC', 'Infeksi'])\n",
    "\n",
    "# Add labels and title\n",
    "plt.xlabel('Predicted')\n",
    "plt.ylabel('True')\n",
    "plt.title('Confusion Matrix')\n",
    "\n",
    "# Show plot\n",
    "plt.show()"
   ]
  }
 ],
 "metadata": {
  "kernelspec": {
   "display_name": "xdl-env",
   "language": "python",
   "name": "python3"
  },
  "language_info": {
   "codemirror_mode": {
    "name": "ipython",
    "version": 3
   },
   "file_extension": ".py",
   "mimetype": "text/x-python",
   "name": "python",
   "nbconvert_exporter": "python",
   "pygments_lexer": "ipython3",
   "version": "3.10.16"
  }
 },
 "nbformat": 4,
 "nbformat_minor": 2
}
