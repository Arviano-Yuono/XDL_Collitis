{
 "cells": [
  {
   "cell_type": "markdown",
   "metadata": {},
   "source": [
    "# Inputs"
   ]
  },
  {
   "cell_type": "code",
   "execution_count": 1,
   "metadata": {},
   "outputs": [],
   "source": [
    "import os\n",
    "import pandas as pd\n",
    "import yaml"
   ]
  },
  {
   "cell_type": "code",
   "execution_count": 2,
   "metadata": {},
   "outputs": [],
   "source": [
    "DATASET_PARAMS = yaml.load(open(\"configs/dataset.yaml\"), Loader=yaml.SafeLoader)\n",
    "PREPROCESSING_PARAMS = yaml.load(open(\"configs/preprocessing.yaml\"), Loader=yaml.SafeLoader)\n",
    "MODEL_NAME = yaml.load(open(\"configs/model.yaml\"), Loader=yaml.SafeLoader)['MODEL_NAME']\n",
    "MODEL_PARAMS = yaml.load(open(\"configs/model.yaml\"), Loader=yaml.SafeLoader)[MODEL_NAME]\n",
    "TRAINING_PARAMS = yaml.load(open(\"configs/training.yaml\"), Loader=yaml.SafeLoader)"
   ]
  },
  {
   "cell_type": "code",
   "execution_count": 3,
   "metadata": {},
   "outputs": [],
   "source": [
    "categories =  DATASET_PARAMS['CATEGORIES']\n",
    "\n",
    "BASE_DIR = os.getcwd()\n",
    "DATASET_DIR = os.path.join(BASE_DIR, DATASET_PARAMS['DATA_PATH'])\n",
    "\n",
    "TRAIN_DIR = os.path.join(DATASET_DIR, \"train\")\n",
    "VAL_DIR = os.path.join(DATASET_DIR, \"val\")\n",
    "TEST_DIR = os.path.join(DATASET_DIR, \"test\")"
   ]
  },
  {
   "cell_type": "code",
   "execution_count": 4,
   "metadata": {},
   "outputs": [
    {
     "name": "stdout",
     "output_type": "stream",
     "text": [
      "Using device: cuda\n"
     ]
    }
   ],
   "source": [
    "from src.utils import get_device\n",
    "DEVICE = get_device()\n",
    "print(f\"Using device: {DEVICE}\")"
   ]
  },
  {
   "cell_type": "markdown",
   "metadata": {},
   "source": [
    "# Dataset"
   ]
  },
  {
   "cell_type": "code",
   "execution_count": 5,
   "metadata": {},
   "outputs": [],
   "source": [
    "from src.utils import generate_filenames_df"
   ]
  },
  {
   "cell_type": "code",
   "execution_count": 6,
   "metadata": {},
   "outputs": [],
   "source": [
    "train_filenames_df = generate_filenames_df(TRAIN_DIR, \n",
    "                                           categories, \n",
    "                                           shuffle=True, \n",
    "                                           is_sample=DATASET_PARAMS['IS_SAMPLE'],\n",
    "                                           sample_size=DATASET_PARAMS['SAMPLE_SIZE'],\n",
    "                                           seed=42)\n",
    "\n",
    "val_filenames_df = generate_filenames_df(VAL_DIR, \n",
    "                                         categories, \n",
    "                                         shuffle=True, \n",
    "                                         is_sample=DATASET_PARAMS['IS_SAMPLE'],\n",
    "                                         sample_size=DATASET_PARAMS['SAMPLE_SIZE'],\n",
    "                                         seed=42)"
   ]
  },
  {
   "cell_type": "markdown",
   "metadata": {},
   "source": [
    "## Pre Processor"
   ]
  },
  {
   "cell_type": "code",
   "execution_count": 7,
   "metadata": {},
   "outputs": [],
   "source": [
    "from src.preprocessing import preprocess\n",
    "\n",
    "target_input_size = tuple(PREPROCESSING_PARAMS['INPUT_SIZE'])\n",
    "train_transform = preprocess(\n",
    "    target_input_size=target_input_size,\n",
    "    rotation_range=PREPROCESSING_PARAMS['ROTATION_RANGE'],\n",
    "    width_shift_range=PREPROCESSING_PARAMS['WIDTH_SHIFT_RANGE'],\n",
    "    height_shift_range=PREPROCESSING_PARAMS['HEIGHT_SHIFT_RANGE'],\n",
    "    brightness_range=PREPROCESSING_PARAMS['BRIGHTNESS_RANGE'],\n",
    "    zoom_range=PREPROCESSING_PARAMS['ZOOM_RANGE'],\n",
    "    horizontal_flip=PREPROCESSING_PARAMS['HORIZONTAL_FLIP'],\n",
    "    vertical_flip=PREPROCESSING_PARAMS['VERTICAL_FLIP'],\n",
    "    channel_shift_range=PREPROCESSING_PARAMS['CHANNEL_SHIFT_RANGE'],\n",
    "    fill_mode=PREPROCESSING_PARAMS['FILL_MODE'],\n",
    "    shear_range=PREPROCESSING_PARAMS['SHEAR_RANGE']\n",
    "    )\n",
    "\n",
    "val_transform = preprocess(target_input_size=target_input_size) # only rescaling"
   ]
  },
  {
   "cell_type": "code",
   "execution_count": 8,
   "metadata": {},
   "outputs": [
    {
     "data": {
      "text/html": [
       "<div>\n",
       "<style scoped>\n",
       "    .dataframe tbody tr th:only-of-type {\n",
       "        vertical-align: middle;\n",
       "    }\n",
       "\n",
       "    .dataframe tbody tr th {\n",
       "        vertical-align: top;\n",
       "    }\n",
       "\n",
       "    .dataframe thead th {\n",
       "        text-align: right;\n",
       "    }\n",
       "</style>\n",
       "<table border=\"1\" class=\"dataframe\">\n",
       "  <thead>\n",
       "    <tr style=\"text-align: right;\">\n",
       "      <th></th>\n",
       "      <th>image_path</th>\n",
       "      <th>class</th>\n",
       "    </tr>\n",
       "  </thead>\n",
       "  <tbody>\n",
       "    <tr>\n",
       "      <th>0</th>\n",
       "      <td>c:\\Users\\Yuno\\Documents\\Kuliah Sarjana\\Project...</td>\n",
       "      <td>2</td>\n",
       "    </tr>\n",
       "    <tr>\n",
       "      <th>1</th>\n",
       "      <td>c:\\Users\\Yuno\\Documents\\Kuliah Sarjana\\Project...</td>\n",
       "      <td>3</td>\n",
       "    </tr>\n",
       "    <tr>\n",
       "      <th>2</th>\n",
       "      <td>c:\\Users\\Yuno\\Documents\\Kuliah Sarjana\\Project...</td>\n",
       "      <td>2</td>\n",
       "    </tr>\n",
       "    <tr>\n",
       "      <th>3</th>\n",
       "      <td>c:\\Users\\Yuno\\Documents\\Kuliah Sarjana\\Project...</td>\n",
       "      <td>1</td>\n",
       "    </tr>\n",
       "    <tr>\n",
       "      <th>4</th>\n",
       "      <td>c:\\Users\\Yuno\\Documents\\Kuliah Sarjana\\Project...</td>\n",
       "      <td>3</td>\n",
       "    </tr>\n",
       "    <tr>\n",
       "      <th>5</th>\n",
       "      <td>c:\\Users\\Yuno\\Documents\\Kuliah Sarjana\\Project...</td>\n",
       "      <td>2</td>\n",
       "    </tr>\n",
       "    <tr>\n",
       "      <th>6</th>\n",
       "      <td>c:\\Users\\Yuno\\Documents\\Kuliah Sarjana\\Project...</td>\n",
       "      <td>2</td>\n",
       "    </tr>\n",
       "    <tr>\n",
       "      <th>7</th>\n",
       "      <td>c:\\Users\\Yuno\\Documents\\Kuliah Sarjana\\Project...</td>\n",
       "      <td>1</td>\n",
       "    </tr>\n",
       "    <tr>\n",
       "      <th>8</th>\n",
       "      <td>c:\\Users\\Yuno\\Documents\\Kuliah Sarjana\\Project...</td>\n",
       "      <td>1</td>\n",
       "    </tr>\n",
       "    <tr>\n",
       "      <th>9</th>\n",
       "      <td>c:\\Users\\Yuno\\Documents\\Kuliah Sarjana\\Project...</td>\n",
       "      <td>2</td>\n",
       "    </tr>\n",
       "    <tr>\n",
       "      <th>10</th>\n",
       "      <td>c:\\Users\\Yuno\\Documents\\Kuliah Sarjana\\Project...</td>\n",
       "      <td>2</td>\n",
       "    </tr>\n",
       "    <tr>\n",
       "      <th>11</th>\n",
       "      <td>c:\\Users\\Yuno\\Documents\\Kuliah Sarjana\\Project...</td>\n",
       "      <td>3</td>\n",
       "    </tr>\n",
       "    <tr>\n",
       "      <th>12</th>\n",
       "      <td>c:\\Users\\Yuno\\Documents\\Kuliah Sarjana\\Project...</td>\n",
       "      <td>2</td>\n",
       "    </tr>\n",
       "    <tr>\n",
       "      <th>13</th>\n",
       "      <td>c:\\Users\\Yuno\\Documents\\Kuliah Sarjana\\Project...</td>\n",
       "      <td>3</td>\n",
       "    </tr>\n",
       "    <tr>\n",
       "      <th>14</th>\n",
       "      <td>c:\\Users\\Yuno\\Documents\\Kuliah Sarjana\\Project...</td>\n",
       "      <td>1</td>\n",
       "    </tr>\n",
       "    <tr>\n",
       "      <th>15</th>\n",
       "      <td>c:\\Users\\Yuno\\Documents\\Kuliah Sarjana\\Project...</td>\n",
       "      <td>3</td>\n",
       "    </tr>\n",
       "    <tr>\n",
       "      <th>16</th>\n",
       "      <td>c:\\Users\\Yuno\\Documents\\Kuliah Sarjana\\Project...</td>\n",
       "      <td>2</td>\n",
       "    </tr>\n",
       "    <tr>\n",
       "      <th>17</th>\n",
       "      <td>c:\\Users\\Yuno\\Documents\\Kuliah Sarjana\\Project...</td>\n",
       "      <td>2</td>\n",
       "    </tr>\n",
       "    <tr>\n",
       "      <th>18</th>\n",
       "      <td>c:\\Users\\Yuno\\Documents\\Kuliah Sarjana\\Project...</td>\n",
       "      <td>3</td>\n",
       "    </tr>\n",
       "    <tr>\n",
       "      <th>19</th>\n",
       "      <td>c:\\Users\\Yuno\\Documents\\Kuliah Sarjana\\Project...</td>\n",
       "      <td>2</td>\n",
       "    </tr>\n",
       "    <tr>\n",
       "      <th>20</th>\n",
       "      <td>c:\\Users\\Yuno\\Documents\\Kuliah Sarjana\\Project...</td>\n",
       "      <td>2</td>\n",
       "    </tr>\n",
       "    <tr>\n",
       "      <th>21</th>\n",
       "      <td>c:\\Users\\Yuno\\Documents\\Kuliah Sarjana\\Project...</td>\n",
       "      <td>3</td>\n",
       "    </tr>\n",
       "    <tr>\n",
       "      <th>22</th>\n",
       "      <td>c:\\Users\\Yuno\\Documents\\Kuliah Sarjana\\Project...</td>\n",
       "      <td>1</td>\n",
       "    </tr>\n",
       "    <tr>\n",
       "      <th>23</th>\n",
       "      <td>c:\\Users\\Yuno\\Documents\\Kuliah Sarjana\\Project...</td>\n",
       "      <td>2</td>\n",
       "    </tr>\n",
       "    <tr>\n",
       "      <th>24</th>\n",
       "      <td>c:\\Users\\Yuno\\Documents\\Kuliah Sarjana\\Project...</td>\n",
       "      <td>1</td>\n",
       "    </tr>\n",
       "    <tr>\n",
       "      <th>25</th>\n",
       "      <td>c:\\Users\\Yuno\\Documents\\Kuliah Sarjana\\Project...</td>\n",
       "      <td>2</td>\n",
       "    </tr>\n",
       "    <tr>\n",
       "      <th>26</th>\n",
       "      <td>c:\\Users\\Yuno\\Documents\\Kuliah Sarjana\\Project...</td>\n",
       "      <td>3</td>\n",
       "    </tr>\n",
       "    <tr>\n",
       "      <th>27</th>\n",
       "      <td>c:\\Users\\Yuno\\Documents\\Kuliah Sarjana\\Project...</td>\n",
       "      <td>1</td>\n",
       "    </tr>\n",
       "    <tr>\n",
       "      <th>28</th>\n",
       "      <td>c:\\Users\\Yuno\\Documents\\Kuliah Sarjana\\Project...</td>\n",
       "      <td>1</td>\n",
       "    </tr>\n",
       "    <tr>\n",
       "      <th>29</th>\n",
       "      <td>c:\\Users\\Yuno\\Documents\\Kuliah Sarjana\\Project...</td>\n",
       "      <td>3</td>\n",
       "    </tr>\n",
       "    <tr>\n",
       "      <th>30</th>\n",
       "      <td>c:\\Users\\Yuno\\Documents\\Kuliah Sarjana\\Project...</td>\n",
       "      <td>2</td>\n",
       "    </tr>\n",
       "    <tr>\n",
       "      <th>31</th>\n",
       "      <td>c:\\Users\\Yuno\\Documents\\Kuliah Sarjana\\Project...</td>\n",
       "      <td>3</td>\n",
       "    </tr>\n",
       "    <tr>\n",
       "      <th>32</th>\n",
       "      <td>c:\\Users\\Yuno\\Documents\\Kuliah Sarjana\\Project...</td>\n",
       "      <td>2</td>\n",
       "    </tr>\n",
       "    <tr>\n",
       "      <th>33</th>\n",
       "      <td>c:\\Users\\Yuno\\Documents\\Kuliah Sarjana\\Project...</td>\n",
       "      <td>1</td>\n",
       "    </tr>\n",
       "    <tr>\n",
       "      <th>34</th>\n",
       "      <td>c:\\Users\\Yuno\\Documents\\Kuliah Sarjana\\Project...</td>\n",
       "      <td>1</td>\n",
       "    </tr>\n",
       "    <tr>\n",
       "      <th>35</th>\n",
       "      <td>c:\\Users\\Yuno\\Documents\\Kuliah Sarjana\\Project...</td>\n",
       "      <td>2</td>\n",
       "    </tr>\n",
       "    <tr>\n",
       "      <th>36</th>\n",
       "      <td>c:\\Users\\Yuno\\Documents\\Kuliah Sarjana\\Project...</td>\n",
       "      <td>1</td>\n",
       "    </tr>\n",
       "    <tr>\n",
       "      <th>37</th>\n",
       "      <td>c:\\Users\\Yuno\\Documents\\Kuliah Sarjana\\Project...</td>\n",
       "      <td>3</td>\n",
       "    </tr>\n",
       "    <tr>\n",
       "      <th>38</th>\n",
       "      <td>c:\\Users\\Yuno\\Documents\\Kuliah Sarjana\\Project...</td>\n",
       "      <td>2</td>\n",
       "    </tr>\n",
       "    <tr>\n",
       "      <th>39</th>\n",
       "      <td>c:\\Users\\Yuno\\Documents\\Kuliah Sarjana\\Project...</td>\n",
       "      <td>2</td>\n",
       "    </tr>\n",
       "    <tr>\n",
       "      <th>40</th>\n",
       "      <td>c:\\Users\\Yuno\\Documents\\Kuliah Sarjana\\Project...</td>\n",
       "      <td>1</td>\n",
       "    </tr>\n",
       "    <tr>\n",
       "      <th>41</th>\n",
       "      <td>c:\\Users\\Yuno\\Documents\\Kuliah Sarjana\\Project...</td>\n",
       "      <td>3</td>\n",
       "    </tr>\n",
       "    <tr>\n",
       "      <th>42</th>\n",
       "      <td>c:\\Users\\Yuno\\Documents\\Kuliah Sarjana\\Project...</td>\n",
       "      <td>2</td>\n",
       "    </tr>\n",
       "    <tr>\n",
       "      <th>43</th>\n",
       "      <td>c:\\Users\\Yuno\\Documents\\Kuliah Sarjana\\Project...</td>\n",
       "      <td>3</td>\n",
       "    </tr>\n",
       "    <tr>\n",
       "      <th>44</th>\n",
       "      <td>c:\\Users\\Yuno\\Documents\\Kuliah Sarjana\\Project...</td>\n",
       "      <td>2</td>\n",
       "    </tr>\n",
       "    <tr>\n",
       "      <th>45</th>\n",
       "      <td>c:\\Users\\Yuno\\Documents\\Kuliah Sarjana\\Project...</td>\n",
       "      <td>2</td>\n",
       "    </tr>\n",
       "    <tr>\n",
       "      <th>46</th>\n",
       "      <td>c:\\Users\\Yuno\\Documents\\Kuliah Sarjana\\Project...</td>\n",
       "      <td>2</td>\n",
       "    </tr>\n",
       "    <tr>\n",
       "      <th>47</th>\n",
       "      <td>c:\\Users\\Yuno\\Documents\\Kuliah Sarjana\\Project...</td>\n",
       "      <td>1</td>\n",
       "    </tr>\n",
       "    <tr>\n",
       "      <th>48</th>\n",
       "      <td>c:\\Users\\Yuno\\Documents\\Kuliah Sarjana\\Project...</td>\n",
       "      <td>3</td>\n",
       "    </tr>\n",
       "    <tr>\n",
       "      <th>49</th>\n",
       "      <td>c:\\Users\\Yuno\\Documents\\Kuliah Sarjana\\Project...</td>\n",
       "      <td>3</td>\n",
       "    </tr>\n",
       "  </tbody>\n",
       "</table>\n",
       "</div>"
      ],
      "text/plain": [
       "                                           image_path class\n",
       "0   c:\\Users\\Yuno\\Documents\\Kuliah Sarjana\\Project...     2\n",
       "1   c:\\Users\\Yuno\\Documents\\Kuliah Sarjana\\Project...     3\n",
       "2   c:\\Users\\Yuno\\Documents\\Kuliah Sarjana\\Project...     2\n",
       "3   c:\\Users\\Yuno\\Documents\\Kuliah Sarjana\\Project...     1\n",
       "4   c:\\Users\\Yuno\\Documents\\Kuliah Sarjana\\Project...     3\n",
       "5   c:\\Users\\Yuno\\Documents\\Kuliah Sarjana\\Project...     2\n",
       "6   c:\\Users\\Yuno\\Documents\\Kuliah Sarjana\\Project...     2\n",
       "7   c:\\Users\\Yuno\\Documents\\Kuliah Sarjana\\Project...     1\n",
       "8   c:\\Users\\Yuno\\Documents\\Kuliah Sarjana\\Project...     1\n",
       "9   c:\\Users\\Yuno\\Documents\\Kuliah Sarjana\\Project...     2\n",
       "10  c:\\Users\\Yuno\\Documents\\Kuliah Sarjana\\Project...     2\n",
       "11  c:\\Users\\Yuno\\Documents\\Kuliah Sarjana\\Project...     3\n",
       "12  c:\\Users\\Yuno\\Documents\\Kuliah Sarjana\\Project...     2\n",
       "13  c:\\Users\\Yuno\\Documents\\Kuliah Sarjana\\Project...     3\n",
       "14  c:\\Users\\Yuno\\Documents\\Kuliah Sarjana\\Project...     1\n",
       "15  c:\\Users\\Yuno\\Documents\\Kuliah Sarjana\\Project...     3\n",
       "16  c:\\Users\\Yuno\\Documents\\Kuliah Sarjana\\Project...     2\n",
       "17  c:\\Users\\Yuno\\Documents\\Kuliah Sarjana\\Project...     2\n",
       "18  c:\\Users\\Yuno\\Documents\\Kuliah Sarjana\\Project...     3\n",
       "19  c:\\Users\\Yuno\\Documents\\Kuliah Sarjana\\Project...     2\n",
       "20  c:\\Users\\Yuno\\Documents\\Kuliah Sarjana\\Project...     2\n",
       "21  c:\\Users\\Yuno\\Documents\\Kuliah Sarjana\\Project...     3\n",
       "22  c:\\Users\\Yuno\\Documents\\Kuliah Sarjana\\Project...     1\n",
       "23  c:\\Users\\Yuno\\Documents\\Kuliah Sarjana\\Project...     2\n",
       "24  c:\\Users\\Yuno\\Documents\\Kuliah Sarjana\\Project...     1\n",
       "25  c:\\Users\\Yuno\\Documents\\Kuliah Sarjana\\Project...     2\n",
       "26  c:\\Users\\Yuno\\Documents\\Kuliah Sarjana\\Project...     3\n",
       "27  c:\\Users\\Yuno\\Documents\\Kuliah Sarjana\\Project...     1\n",
       "28  c:\\Users\\Yuno\\Documents\\Kuliah Sarjana\\Project...     1\n",
       "29  c:\\Users\\Yuno\\Documents\\Kuliah Sarjana\\Project...     3\n",
       "30  c:\\Users\\Yuno\\Documents\\Kuliah Sarjana\\Project...     2\n",
       "31  c:\\Users\\Yuno\\Documents\\Kuliah Sarjana\\Project...     3\n",
       "32  c:\\Users\\Yuno\\Documents\\Kuliah Sarjana\\Project...     2\n",
       "33  c:\\Users\\Yuno\\Documents\\Kuliah Sarjana\\Project...     1\n",
       "34  c:\\Users\\Yuno\\Documents\\Kuliah Sarjana\\Project...     1\n",
       "35  c:\\Users\\Yuno\\Documents\\Kuliah Sarjana\\Project...     2\n",
       "36  c:\\Users\\Yuno\\Documents\\Kuliah Sarjana\\Project...     1\n",
       "37  c:\\Users\\Yuno\\Documents\\Kuliah Sarjana\\Project...     3\n",
       "38  c:\\Users\\Yuno\\Documents\\Kuliah Sarjana\\Project...     2\n",
       "39  c:\\Users\\Yuno\\Documents\\Kuliah Sarjana\\Project...     2\n",
       "40  c:\\Users\\Yuno\\Documents\\Kuliah Sarjana\\Project...     1\n",
       "41  c:\\Users\\Yuno\\Documents\\Kuliah Sarjana\\Project...     3\n",
       "42  c:\\Users\\Yuno\\Documents\\Kuliah Sarjana\\Project...     2\n",
       "43  c:\\Users\\Yuno\\Documents\\Kuliah Sarjana\\Project...     3\n",
       "44  c:\\Users\\Yuno\\Documents\\Kuliah Sarjana\\Project...     2\n",
       "45  c:\\Users\\Yuno\\Documents\\Kuliah Sarjana\\Project...     2\n",
       "46  c:\\Users\\Yuno\\Documents\\Kuliah Sarjana\\Project...     2\n",
       "47  c:\\Users\\Yuno\\Documents\\Kuliah Sarjana\\Project...     1\n",
       "48  c:\\Users\\Yuno\\Documents\\Kuliah Sarjana\\Project...     3\n",
       "49  c:\\Users\\Yuno\\Documents\\Kuliah Sarjana\\Project...     3"
      ]
     },
     "execution_count": 8,
     "metadata": {},
     "output_type": "execute_result"
    }
   ],
   "source": [
    "test_train_filenames_df =train_filenames_df.reset_index(drop=True).sample(frac=1, random_state=42).reset_index(drop=True)\n",
    "train_filenames_df"
   ]
  },
  {
   "cell_type": "code",
   "execution_count": 9,
   "metadata": {},
   "outputs": [
    {
     "data": {
      "text/html": [
       "<div>\n",
       "<style scoped>\n",
       "    .dataframe tbody tr th:only-of-type {\n",
       "        vertical-align: middle;\n",
       "    }\n",
       "\n",
       "    .dataframe tbody tr th {\n",
       "        vertical-align: top;\n",
       "    }\n",
       "\n",
       "    .dataframe thead th {\n",
       "        text-align: right;\n",
       "    }\n",
       "</style>\n",
       "<table border=\"1\" class=\"dataframe\">\n",
       "  <thead>\n",
       "    <tr style=\"text-align: right;\">\n",
       "      <th></th>\n",
       "      <th>image_path</th>\n",
       "      <th>class</th>\n",
       "    </tr>\n",
       "  </thead>\n",
       "  <tbody>\n",
       "  </tbody>\n",
       "</table>\n",
       "</div>"
      ],
      "text/plain": [
       "Empty DataFrame\n",
       "Columns: [image_path, class]\n",
       "Index: []"
      ]
     },
     "execution_count": 9,
     "metadata": {},
     "output_type": "execute_result"
    }
   ],
   "source": [
    "test_train_filenames_df.iloc[1000:]"
   ]
  },
  {
   "cell_type": "code",
   "execution_count": 10,
   "metadata": {},
   "outputs": [
    {
     "data": {
      "text/plain": [
       "13"
      ]
     },
     "execution_count": 10,
     "metadata": {},
     "output_type": "execute_result"
    }
   ],
   "source": [
    "len(test_train_filenames_df[test_train_filenames_df['class'] == '1'])"
   ]
  },
  {
   "cell_type": "code",
   "execution_count": 11,
   "metadata": {},
   "outputs": [],
   "source": [
    "from src.dataset import Dataset\n",
    "\n",
    "train_dataset = Dataset(dataframe=train_filenames_df, \n",
    "                        categories=DATASET_PARAMS['CATEGORIES'],\n",
    "                        transform=train_transform, \n",
    "                        seed=42, \n",
    "                        shuffle=TRAINING_PARAMS['SHUFFLE'])\n",
    "\n",
    "val_dataset = Dataset(dataframe=val_filenames_df, \n",
    "                      categories=DATASET_PARAMS['CATEGORIES'],\n",
    "                      transform=val_transform, \n",
    "                      seed=42, \n",
    "                      shuffle=TRAINING_PARAMS['SHUFFLE'])\n"
   ]
  },
  {
   "cell_type": "markdown",
   "metadata": {},
   "source": [
    "## Train loader"
   ]
  },
  {
   "cell_type": "code",
   "execution_count": 12,
   "metadata": {},
   "outputs": [],
   "source": [
    "from torch.utils.data import DataLoader\n",
    "\n",
    "train_loader = DataLoader(train_dataset, \n",
    "                          batch_size=TRAINING_PARAMS['BATCH_SIZE'], \n",
    "                          shuffle=False, \n",
    "                          num_workers=TRAINING_PARAMS['NUM_WORKERS'])\n",
    "\n",
    "val_loader = DataLoader(val_dataset, \n",
    "                          batch_size=TRAINING_PARAMS['BATCH_SIZE'], \n",
    "                          shuffle=False, \n",
    "                          num_workers=TRAINING_PARAMS['NUM_WORKERS'])"
   ]
  },
  {
   "cell_type": "code",
   "execution_count": 13,
   "metadata": {},
   "outputs": [],
   "source": [
    "# # Get a sample batch from train_loader\n",
    "# import matplotlib.pyplot as plt\n",
    "# import torch\n",
    "\n",
    "# # Get first batch\n",
    "# images, labels = next(iter(train_loader))\n",
    "\n",
    "# # Select first image and label from batch\n",
    "# sample_image = images[0]\n",
    "# sample_label = labels[0]\n",
    "\n",
    "# # Convert tensor to numpy for displaying\n",
    "# # Move channel dimension from [C,H,W] to [H,W,C] for plotting\n",
    "# sample_image_np = sample_image.permute(1,2,0).numpy()\n",
    "\n",
    "# # Multiply by 255 to restore original pixel values\n",
    "# sample_image_np = sample_image_np * 255\n",
    "\n",
    "# # Plot\n",
    "# plt.figure(figsize=(8,8))\n",
    "# plt.imshow(sample_image_np)\n",
    "# plt.title(f'Label: {sample_label}')\n",
    "# plt.axis('off')\n",
    "# plt.show()\n"
   ]
  },
  {
   "cell_type": "markdown",
   "metadata": {},
   "source": [
    "# Model"
   ]
  },
  {
   "cell_type": "code",
   "execution_count": 14,
   "metadata": {},
   "outputs": [],
   "source": [
    "num_classes = len(categories)"
   ]
  },
  {
   "cell_type": "markdown",
   "metadata": {},
   "source": [
    "### EfficientCapsNet"
   ]
  },
  {
   "cell_type": "code",
   "execution_count": 15,
   "metadata": {},
   "outputs": [],
   "source": [
    "if MODEL_NAME == \"CAPSNET\":\n",
    "    from src.model import EfficientCapsNet\n",
    "    from src.loss import MarginLoss, marginLoss\n",
    "\n",
    "    model = EfficientCapsNet(input_size=(MODEL_PARAMS['INPUT_SIZE']))\n",
    "    loss = MarginLoss()\n",
    "    # loss = marginLoss"
   ]
  },
  {
   "cell_type": "markdown",
   "metadata": {},
   "source": [
    "### DenseNet"
   ]
  },
  {
   "cell_type": "code",
   "execution_count": 16,
   "metadata": {},
   "outputs": [],
   "source": [
    "if MODEL_NAME == \"DENSENET121\":\n",
    "    from src.densenet import DenseNet121\n",
    "    from torch.nn import CrossEntropyLoss\n",
    "\n",
    "    model = DenseNet121(num_classes=num_classes, dropout_rate=MODEL_PARAMS['DROPOUT_RATE'])\n",
    "    loss = CrossEntropyLoss()   "
   ]
  },
  {
   "cell_type": "markdown",
   "metadata": {},
   "source": [
    "# Training"
   ]
  },
  {
   "cell_type": "markdown",
   "metadata": {},
   "source": [
    "## Metrics"
   ]
  },
  {
   "cell_type": "code",
   "execution_count": 17,
   "metadata": {},
   "outputs": [],
   "source": [
    "# Optimizer\n",
    "from torch.optim import AdamW\n",
    "\n",
    "optimizer = AdamW(model.parameters(), lr=TRAINING_PARAMS['LEARNING_RATE'])\n",
    "\n",
    "# use torcheval metrics\n",
    "# metrics\n",
    "from torcheval.metrics import (\n",
    "    MulticlassAccuracy,\n",
    "    MulticlassF1Score,\n",
    "    MulticlassPrecision,\n",
    "    MulticlassAUROC,\n",
    "    MulticlassAUPRC,\n",
    "    MulticlassRecall\n",
    ")\n",
    "\n",
    "# Metrics\n",
    "from src.metrics import (\n",
    "    MulticlassMCC,\n",
    "    MulticlassSpecificity\n",
    ")\n",
    "\n",
    "metrics = {\n",
    "    \"mcc\": MulticlassMCC(num_classes=num_classes, device=DEVICE),\n",
    "    # \"auprc\": MulticlassAUPRC(num_classes=num_classes, average= TRAINING_PARAMS['AVERAGE'], device=DEVICE),\n",
    "    # \"auroc\": MulticlassAUROC(num_classes=num_classes, average= TRAINING_PARAMS['AVERAGE'], device=DEVICE),\n",
    "    \"accuracy\": MulticlassAccuracy(num_classes=num_classes, average= TRAINING_PARAMS['AVERAGE'], device=DEVICE),\n",
    "    # \"f1_score\": MulticlassF1Score(num_classes=num_classes, average= TRAINING_PARAMS['AVERAGE'], device=DEVICE),\n",
    "    # \"precision\": MulticlassPrecision(num_classes=num_classes, average=TRAINING_PARAMS['AVERAGE'], device = DEVICE),\n",
    "    # \"recall\": MulticlassRecall(num_classes=num_classes, average=TRAINING_PARAMS['AVERAGE'], device = DEVICE),\n",
    "    # \"specificity\": MulticlassSpecificity(num_classes=num_classes, average=TRAINING_PARAMS['AVERAGE'], device = DEVICE)\n",
    "}"
   ]
  },
  {
   "cell_type": "code",
   "execution_count": 18,
   "metadata": {},
   "outputs": [
    {
     "name": "stdout",
     "output_type": "stream",
     "text": [
      "Training...\n",
      "\n",
      "Epoch 1/25\n"
     ]
    },
    {
     "name": "stderr",
     "output_type": "stream",
     "text": [
      "c:\\Users\\Yuno\\anaconda3\\envs\\xdl-env\\lib\\site-packages\\torcheval\\metrics\\functional\\classification\\accuracy.py:275: UserWarning: The reduce argument of torch.scatter with Tensor src is deprecated and will be removed in a future PyTorch release. Use torch.scatter_reduce instead for more reduction options. (Triggered internally at C:\\actions-runner\\_work\\pytorch\\pytorch\\pytorch\\aten\\src\\ATen\\native\\TensorAdvancedIndexing.cpp:234.)\n",
      "  num_correct = mask.new_zeros(num_classes).scatter_(0, target, mask, reduce=\"add\")\n"
     ]
    },
    {
     "name": "stdout",
     "output_type": "stream",
     "text": [
      "Epoch 1 Train - Loss: 2.1207, Metrics: {mcc: -0.1258, accuracy: 0.2660}\n",
      "Epoch 1 Val - Loss: 1.1262, Metrics: {mcc: 0.0000, accuracy: 0.3333}\n",
      "Model saved to artifacts/effcapsnet\\epoch_1.pth\n",
      "\n",
      "Epoch 2/25\n",
      "Epoch 2 Train - Loss: 1.8011, Metrics: {mcc: -0.0752, accuracy: 0.3007}\n",
      "Epoch 2 Val - Loss: 1.6481, Metrics: {mcc: 0.0239, accuracy: 0.3348}\n",
      "\n",
      "Epoch 3/25\n",
      "Epoch 3 Train - Loss: 0.8092, Metrics: {mcc: 0.3861, accuracy: 0.5567}\n",
      "Epoch 3 Val - Loss: 1.3998, Metrics: {mcc: 0.1482, accuracy: 0.3636}\n",
      "\n",
      "Epoch 4/25\n",
      "Epoch 4 Train - Loss: 0.8857, Metrics: {mcc: 0.4734, accuracy: 0.6368}\n",
      "Epoch 4 Val - Loss: 1.1810, Metrics: {mcc: 0.0876, accuracy: 0.3985}\n",
      "\n",
      "Epoch 5/25\n",
      "Epoch 5 Train - Loss: 0.5821, Metrics: {mcc: 0.6940, accuracy: 0.8029}\n",
      "Epoch 5 Val - Loss: 1.1493, Metrics: {mcc: -0.1995, accuracy: 0.2623}\n",
      "\n",
      "Epoch 6/25\n",
      "Epoch 6 Train - Loss: 0.9451, Metrics: {mcc: 0.4549, accuracy: 0.6322}\n",
      "Epoch 6 Val - Loss: 1.1818, Metrics: {mcc: -0.0045, accuracy: 0.3289}\n",
      "\n",
      "Epoch 7/25\n",
      "Epoch 7 Train - Loss: 0.6139, Metrics: {mcc: 0.6309, accuracy: 0.7618}\n",
      "Epoch 7 Val - Loss: 1.1323, Metrics: {mcc: 0.3288, accuracy: 0.4773}\n",
      "\n",
      "Epoch 8/25\n",
      "Epoch 8 Train - Loss: 0.6946, Metrics: {mcc: 0.5366, accuracy: 0.6883}\n",
      "Epoch 8 Val - Loss: 0.9786, Metrics: {mcc: 0.2479, accuracy: 0.4703}\n",
      "Model saved to artifacts/effcapsnet\\epoch_8.pth\n",
      "\n",
      "Epoch 9/25\n",
      "Epoch 9 Train - Loss: 0.4527, Metrics: {mcc: 0.7291, accuracy: 0.8249}\n",
      "Epoch 9 Val - Loss: 0.9354, Metrics: {mcc: 0.4823, accuracy: 0.6045}\n",
      "Model saved to artifacts/effcapsnet\\epoch_9.pth\n",
      "\n",
      "Epoch 10/25\n",
      "Epoch 10 Train - Loss: 0.4695, Metrics: {mcc: 0.6985, accuracy: 0.8063}\n",
      "Epoch 10 Val - Loss: 0.8237, Metrics: {mcc: 0.4129, accuracy: 0.5963}\n",
      "Model saved to artifacts/effcapsnet\\epoch_10.pth\n",
      "\n",
      "Epoch 11/25\n",
      "Epoch 11 Train - Loss: 0.3131, Metrics: {mcc: 0.7528, accuracy: 0.8366}\n",
      "Epoch 11 Val - Loss: 0.9794, Metrics: {mcc: 0.3472, accuracy: 0.5590}\n",
      "\n",
      "Epoch 12/25\n",
      "Epoch 12 Train - Loss: 0.2856, Metrics: {mcc: 0.8792, accuracy: 0.9253}\n",
      "Epoch 12 Val - Loss: 1.1292, Metrics: {mcc: 0.4397, accuracy: 0.6253}\n",
      "\n",
      "Epoch 13/25\n",
      "Epoch 13 Train - Loss: 0.5251, Metrics: {mcc: 0.7250, accuracy: 0.8144}\n",
      "Epoch 13 Val - Loss: 1.3531, Metrics: {mcc: 0.3885, accuracy: 0.5884}\n",
      "\n",
      "Epoch 14/25\n",
      "Epoch 14 Train - Loss: 0.3257, Metrics: {mcc: 0.7227, accuracy: 0.8073}\n",
      "Epoch 14 Val - Loss: 1.4720, Metrics: {mcc: 0.3013, accuracy: 0.5133}\n",
      "\n",
      "Epoch 15/25\n",
      "Epoch 15 Train - Loss: 0.3452, Metrics: {mcc: 0.7279, accuracy: 0.8249}\n",
      "Epoch 15 Val - Loss: 2.2306, Metrics: {mcc: 0.2680, accuracy: 0.5025}\n",
      "\n",
      "Epoch 16/25\n",
      "Epoch 16 Train - Loss: 0.3905, Metrics: {mcc: 0.7585, accuracy: 0.8507}\n",
      "Epoch 16 Val - Loss: 2.3740, Metrics: {mcc: 0.1824, accuracy: 0.4278}\n",
      "\n",
      "Epoch 17/25\n",
      "Epoch 17 Train - Loss: 0.4468, Metrics: {mcc: 0.7263, accuracy: 0.8073}\n",
      "Epoch 17 Val - Loss: 2.8859, Metrics: {mcc: 0.2344, accuracy: 0.4819}\n",
      "\n",
      "Epoch 18/25\n",
      "Epoch 18 Train - Loss: 0.4851, Metrics: {mcc: 0.7639, accuracy: 0.8612}\n",
      "Epoch 18 Val - Loss: 2.2048, Metrics: {mcc: 0.3823, accuracy: 0.5858}\n",
      "\n",
      "Epoch 19/25\n",
      "Epoch 19 Train - Loss: 0.5500, Metrics: {mcc: 0.7545, accuracy: 0.8295}\n",
      "Epoch 19 Val - Loss: 1.9295, Metrics: {mcc: 0.4610, accuracy: 0.6248}\n",
      "Early stopping triggered after 10 epochs with no improvement since epoch 10.\n",
      "Training history saved to artifacts/effcapsnet\\training_history.json\n"
     ]
    }
   ],
   "source": [
    "from src.train import train\n",
    "\n",
    "history = train(model=model, \n",
    "    train_loader=train_loader, \n",
    "    val_loader=val_loader, \n",
    "    criterion=loss, \n",
    "    optimizer=optimizer, \n",
    "    num_epochs=TRAINING_PARAMS['NUM_EPOCHS'], \n",
    "    device=DEVICE,\n",
    "    metrics=metrics,\n",
    "    print_every=TRAINING_PARAMS['PRINT_EVERY'],\n",
    "    save_patience=TRAINING_PARAMS['SAVE_PATIENCE'],\n",
    "    save_path=TRAINING_PARAMS['SAVE_PATH'],\n",
    "    save_model=TRAINING_PARAMS['SAVE_MODEL'],\n",
    "    save_metrics=TRAINING_PARAMS['SAVE_METRICS']\n",
    "    )"
   ]
  },
  {
   "cell_type": "code",
   "execution_count": 20,
   "metadata": {},
   "outputs": [
    {
     "data": {
      "text/plain": [
       "dict_keys(['train_loss', 'val_loss', 'train_metrics', 'val_metrics'])"
      ]
     },
     "execution_count": 20,
     "metadata": {},
     "output_type": "execute_result"
    }
   ],
   "source": [
    "history.keys()"
   ]
  },
  {
   "cell_type": "code",
   "execution_count": 22,
   "metadata": {},
   "outputs": [
    {
     "data": {
      "image/png": "[encoded data removed]",
      "text/plain": [
       "<Figure size 1000x600 with 1 Axes>"
      ]
     },
     "metadata": {},
     "output_type": "display_data"
    }
   ],
   "source": [
    "import matplotlib.pyplot as plt\n",
    "\n",
    "train_loss = history[\"train_loss\"]\n",
    "val_loss = history[\"val_loss\"]\n",
    "plt.figure(figsize=(10, 6))\n",
    "plt.plot(train_loss, label='Training Loss')\n",
    "plt.plot(val_loss, label='Validation Loss')\n",
    "plt.title('Training Loss Over Time')\n",
    "plt.xlabel('Epoch')\n",
    "plt.ylabel('Loss')\n",
    "plt.legend()\n",
    "plt.grid(True)\n",
    "plt.show()\n"
   ]
  }
 ],
 "metadata": {
  "kernelspec": {
   "display_name": "xdl-env",
   "language": "python",
   "name": "python3"
  },
  "language_info": {
   "codemirror_mode": {
    "name": "ipython",
    "version": 3
   },
   "file_extension": ".py",
   "mimetype": "text/x-python",
   "name": "python",
   "nbconvert_exporter": "python",
   "pygments_lexer": "ipython3",
   "version": "3.10.16"
  }
 },
 "nbformat": 4,
 "nbformat_minor": 2
}
