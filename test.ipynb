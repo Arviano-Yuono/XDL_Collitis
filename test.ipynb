{
 "cells": [
  {
   "cell_type": "markdown",
   "metadata": {},
   "source": [
    "# Inputs"
   ]
  },
  {
   "cell_type": "code",
   "execution_count": 1,
   "metadata": {},
   "outputs": [],
   "source": [
    "import os\n",
    "import pandas as pd\n",
    "import yaml"
   ]
  },
  {
   "cell_type": "code",
   "execution_count": 2,
   "metadata": {},
   "outputs": [],
   "source": [
    "DATASET_PARAMS = yaml.load(open(\"configs/dataset.yaml\"), Loader=yaml.SafeLoader)['DATASET']\n",
    "PREPROCESSING_PARAMS = yaml.load(open(\"configs/preprocessing.yaml\"), Loader=yaml.SafeLoader)['PREPROCESSING']\n",
    "EFFICIENTCAPSNET_PARAMS = yaml.load(open(\"configs/efficientcapsnet.yaml\"), Loader=yaml.SafeLoader)['CAPSNET']\n",
    "TRAINING_PARAMS = yaml.load(open(\"configs/training.yaml\"), Loader=yaml.SafeLoader)"
   ]
  },
  {
   "cell_type": "code",
   "execution_count": 3,
   "metadata": {},
   "outputs": [],
   "source": [
    "categories =  DATASET_PARAMS['CATEGORIES']\n",
    "\n",
    "BASE_DIR = os.getcwd()\n",
    "DATASET_DIR = os.path.join(BASE_DIR, DATASET_PARAMS['DATA_PATH'])\n",
    "\n",
    "TRAIN_DIR = os.path.join(DATASET_DIR, \"train\")\n",
    "VAL_DIR = os.path.join(DATASET_DIR, \"val\")\n",
    "TEST_DIR = os.path.join(DATASET_DIR, \"test\")"
   ]
  },
  {
   "cell_type": "code",
   "execution_count": 4,
   "metadata": {},
   "outputs": [],
   "source": [
    "import torch"
   ]
  },
  {
   "cell_type": "code",
   "execution_count": 5,
   "metadata": {},
   "outputs": [
    {
     "data": {
      "text/plain": [
       "'2.7.0+cu118'"
      ]
     },
     "execution_count": 5,
     "metadata": {},
     "output_type": "execute_result"
    }
   ],
   "source": [
    "torch.__version__"
   ]
  },
  {
   "cell_type": "code",
   "execution_count": 6,
   "metadata": {},
   "outputs": [],
   "source": [
    "from src.utils import get_device\n",
    "DEVICE = get_device()"
   ]
  },
  {
   "cell_type": "markdown",
   "metadata": {},
   "source": [
    "# Dataset"
   ]
  },
  {
   "cell_type": "code",
   "execution_count": 7,
   "metadata": {},
   "outputs": [],
   "source": [
    "from src.utils import generate_filenames_df"
   ]
  },
  {
   "cell_type": "code",
   "execution_count": 8,
   "metadata": {},
   "outputs": [],
   "source": [
    "train_filenames_df = generate_filenames_df(TRAIN_DIR, categories)\n",
    "val_filenames_df = generate_filenames_df(VAL_DIR, categories)"
   ]
  },
  {
   "cell_type": "markdown",
   "metadata": {},
   "source": [
    "## Pre Processor"
   ]
  },
  {
   "cell_type": "code",
   "execution_count": 9,
   "metadata": {},
   "outputs": [],
   "source": [
    "from src.preprocessing import preprocess\n",
    "\n",
    "target_input_size = tuple(PREPROCESSING_PARAMS['INPUT_SIZE'])\n",
    "train_transform = preprocess(\n",
    "    target_input_size=target_input_size,\n",
    "    rotation_range=PREPROCESSING_PARAMS['ROTATION_RANGE'],\n",
    "    width_shift_range=PREPROCESSING_PARAMS['WIDTH_SHIFT_RANGE'],\n",
    "    height_shift_range=PREPROCESSING_PARAMS['HEIGHT_SHIFT_RANGE'],\n",
    "    brightness_range=PREPROCESSING_PARAMS['BRIGHTNESS_RANGE'],\n",
    "    zoom_range=PREPROCESSING_PARAMS['ZOOM_RANGE'],\n",
    "    horizontal_flip=PREPROCESSING_PARAMS['HORIZONTAL_FLIP'],\n",
    "    vertical_flip=PREPROCESSING_PARAMS['VERTICAL_FLIP'],\n",
    "    channel_shift_range=PREPROCESSING_PARAMS['CHANNEL_SHIFT_RANGE'],\n",
    "    fill_mode=PREPROCESSING_PARAMS['FILL_MODE'],\n",
    "    drop_out=PREPROCESSING_PARAMS['DROP_OUT'],\n",
    "    shear_range=PREPROCESSING_PARAMS['SHEAR_RANGE']\n",
    "    )\n",
    "\n",
    "val_transform = preprocess(target_input_size=target_input_size) # only rescaling"
   ]
  },
  {
   "cell_type": "code",
   "execution_count": 10,
   "metadata": {},
   "outputs": [],
   "source": [
    "from src.dataset import Dataset\n",
    "\n",
    "dataset = Dataset(dataframe = train_filenames_df,\n",
    "    transform=train_transform\n",
    ")"
   ]
  },
  {
   "cell_type": "markdown",
   "metadata": {},
   "source": [
    "## Train loader"
   ]
  },
  {
   "cell_type": "code",
   "execution_count": 11,
   "metadata": {},
   "outputs": [],
   "source": [
    "from src.loader import Loader\n",
    "train_loader = Loader(train_filenames_df, \n",
    "                     batch_size=DATASET_PARAMS['BATCH_SIZE'], \n",
    "                     num_workers=EFFICIENTCAPSNET_PARAMS['NUM_WORKERS'], \n",
    "                     transform=train_transform, \n",
    "                     shuffle=True)\n",
    "\n",
    "val_loader = Loader(val_filenames_df, \n",
    "                    batch_size=DATASET_PARAMS['BATCH_SIZE'], \n",
    "                    num_workers=EFFICIENTCAPSNET_PARAMS['NUM_WORKERS'], \n",
    "                    transform=val_transform, \n",
    "                    shuffle=False)\n"
   ]
  },
  {
   "cell_type": "markdown",
   "metadata": {},
   "source": [
    "# Model"
   ]
  },
  {
   "cell_type": "code",
   "execution_count": 12,
   "metadata": {},
   "outputs": [],
   "source": [
    "from src.model import EfficientCapsNet\n",
    "\n",
    "model = EfficientCapsNet(input_size=(EFFICIENTCAPSNET_PARAMS['INPUT_SIZE']))\n",
    "\n"
   ]
  },
  {
   "cell_type": "markdown",
   "metadata": {},
   "source": [
    "# Training"
   ]
  },
  {
   "cell_type": "markdown",
   "metadata": {},
   "source": [
    "## Metrics"
   ]
  },
  {
   "cell_type": "code",
   "execution_count": 13,
   "metadata": {},
   "outputs": [],
   "source": [
    "# Loss\n",
    "from src.loss import MarginLoss\n",
    "\n",
    "margin_loss = MarginLoss()\n",
    "\n",
    "# Optimizer\n",
    "from torch.optim import Adam\n",
    "\n",
    "optimizer = Adam(model.parameters(), lr=TRAINING_PARAMS['LEARNING_RATE'])\n",
    "\n",
    "# Metrics\n",
    "from src.metrics import (\n",
    "    MatthewsCorrelationCoefficient,\n",
    "    CustomPrecision,\n",
    "    CustomRecall,\n",
    "    CustomAUC,\n",
    "    CustomSpecificity\n",
    ")\n",
    "metrics = {\n",
    "    \"mcc\": MatthewsCorrelationCoefficient(num_classes=EFFICIENTCAPSNET_PARAMS['NUM_CLASSES']),\n",
    "    \"precision\": CustomPrecision(num_classes=EFFICIENTCAPSNET_PARAMS['NUM_CLASSES'], average=TRAINING_PARAMS['AVERAGE']),\n",
    "    \"recall\": CustomRecall(num_classes=EFFICIENTCAPSNET_PARAMS['NUM_CLASSES'], average=TRAINING_PARAMS['AVERAGE']),\n",
    "    \"auc\": CustomAUC(num_classes=EFFICIENTCAPSNET_PARAMS['NUM_CLASSES'], average=TRAINING_PARAMS['AVERAGE']),\n",
    "    \"specificity\": CustomSpecificity(num_classes=EFFICIENTCAPSNET_PARAMS['NUM_CLASSES'], average=TRAINING_PARAMS['AVERAGE'])\n",
    "}"
   ]
  },
  {
   "cell_type": "code",
   "execution_count": 14,
   "metadata": {},
   "outputs": [
    {
     "data": {
      "text/plain": [
       "'1'"
      ]
     },
     "execution_count": 14,
     "metadata": {},
     "output_type": "execute_result"
    }
   ],
   "source": [
    "dataset[0][1]"
   ]
  },
  {
   "cell_type": "code",
   "execution_count": 15,
   "metadata": {},
   "outputs": [
    {
     "name": "stdout",
     "output_type": "stream",
     "text": [
      "cuda\n",
      "Training...\n",
      "Initial memory usage: {'cpu_memory': '588.14MB', 'gpu_memory_allocated': '0.63MB', 'gpu_memory_reserved': '2.00MB'}\n"
     ]
    },
    {
     "name": "stderr",
     "output_type": "stream",
     "text": [
      "  0%|          | 0/10 [00:00<?, ?it/s]"
     ]
    },
    {
     "name": "stdout",
     "output_type": "stream",
     "text": [
      "\n",
      "Epoch 1/10\n",
      "Memory before epoch: {'cpu_memory': '588.87MB', 'gpu_memory_allocated': '0.63MB', 'gpu_memory_reserved': '2.00MB'}\n",
      "torch.Size([1, 3, 299, 299])\n",
      "torch.Size([1, 32, 295, 295])\n",
      "torch.Size([1, 64, 293, 293])\n",
      "torch.Size([1, 64, 291, 291])\n",
      "torch.Size([1, 128, 145, 145])\n",
      "torch.Size([18769, 16, 8])\n",
      "torch.Size([18769, 10, 16])\n"
     ]
    },
    {
     "name": "stderr",
     "output_type": "stream",
     "text": [
      "  0%|          | 0/10 [00:01<?, ?it/s]"
     ]
    },
    {
     "name": "stdout",
     "output_type": "stream",
     "text": [
      "outputs: (tensor([[[ 1.1288e-04,  1.6251e-04, -5.3558e-04,  ..., -3.8232e-04,\n",
      "           2.8454e-04,  3.1249e-04],\n",
      "         [-1.3150e-04,  2.1831e-04, -1.4730e-04,  ...,  9.0156e-05,\n",
      "           2.4672e-04,  8.0964e-04],\n",
      "         [-4.4187e-04, -4.4852e-05, -3.3703e-04,  ...,  7.9076e-06,\n",
      "          -2.7849e-07,  4.2405e-04],\n",
      "         ...,\n",
      "         [ 4.1881e-05,  1.3196e-05,  4.6815e-05,  ..., -3.7386e-04,\n",
      "           6.3164e-04, -5.0603e-05],\n",
      "         [ 6.3430e-05,  4.2062e-04,  4.4831e-04,  ...,  5.1477e-05,\n",
      "           3.5667e-04,  6.8358e-04],\n",
      "         [-4.8589e-04, -2.1647e-04,  3.7448e-04,  ...,  3.4327e-04,\n",
      "          -9.7737e-05, -3.0493e-04]],\n",
      "\n",
      "        [[ 1.1288e-04,  1.6251e-04, -5.3558e-04,  ..., -3.8232e-04,\n",
      "           2.8454e-04,  3.1249e-04],\n",
      "         [-1.3150e-04,  2.1831e-04, -1.4730e-04,  ...,  9.0156e-05,\n",
      "           2.4672e-04,  8.0964e-04],\n",
      "         [-4.4187e-04, -4.4852e-05, -3.3703e-04,  ...,  7.9076e-06,\n",
      "          -2.7849e-07,  4.2405e-04],\n",
      "         ...,\n",
      "         [ 4.1881e-05,  1.3196e-05,  4.6815e-05,  ..., -3.7386e-04,\n",
      "           6.3164e-04, -5.0603e-05],\n",
      "         [ 6.3430e-05,  4.2062e-04,  4.4831e-04,  ...,  5.1477e-05,\n",
      "           3.5667e-04,  6.8358e-04],\n",
      "         [-4.8589e-04, -2.1647e-04,  3.7448e-04,  ...,  3.4327e-04,\n",
      "          -9.7737e-05, -3.0493e-04]],\n",
      "\n",
      "        [[ 1.1288e-04,  1.6251e-04, -5.3558e-04,  ..., -3.8232e-04,\n",
      "           2.8454e-04,  3.1249e-04],\n",
      "         [-1.3150e-04,  2.1831e-04, -1.4730e-04,  ...,  9.0156e-05,\n",
      "           2.4672e-04,  8.0964e-04],\n",
      "         [-4.4187e-04, -4.4852e-05, -3.3703e-04,  ...,  7.9076e-06,\n",
      "          -2.7849e-07,  4.2405e-04],\n",
      "         ...,\n",
      "         [ 4.1881e-05,  1.3196e-05,  4.6815e-05,  ..., -3.7386e-04,\n",
      "           6.3164e-04, -5.0603e-05],\n",
      "         [ 6.3430e-05,  4.2062e-04,  4.4831e-04,  ...,  5.1477e-05,\n",
      "           3.5667e-04,  6.8358e-04],\n",
      "         [-4.8589e-04, -2.1647e-04,  3.7448e-04,  ...,  3.4327e-04,\n",
      "          -9.7737e-05, -3.0493e-04]],\n",
      "\n",
      "        ...,\n",
      "\n",
      "        [[-5.3229e-03,  6.3439e-03,  1.2994e-02,  ..., -2.4584e-03,\n",
      "          -2.2117e-02, -2.4348e-03],\n",
      "         [-4.4864e-03,  8.1501e-03,  8.3398e-03,  ...,  4.9110e-03,\n",
      "          -1.1908e-04,  8.5290e-03],\n",
      "         [-2.1719e-03,  4.0960e-03, -9.7632e-03,  ..., -5.3595e-03,\n",
      "          -4.4548e-04, -2.0114e-02],\n",
      "         ...,\n",
      "         [ 3.0358e-03,  2.8712e-03, -1.6017e-02,  ..., -5.3178e-03,\n",
      "          -9.5189e-03, -7.1183e-03],\n",
      "         [ 2.7297e-03,  1.0155e-02, -2.8773e-03,  ...,  4.4697e-03,\n",
      "           3.0990e-03, -1.1145e-02],\n",
      "         [ 1.0746e-02, -2.1388e-03, -1.5225e-02,  ..., -2.2091e-02,\n",
      "          -5.9082e-03,  1.6310e-03]],\n",
      "\n",
      "        [[ 6.2732e-03, -3.9334e-03,  1.7710e-02,  ..., -9.0693e-03,\n",
      "          -6.3029e-03, -3.3710e-03],\n",
      "         [ 8.4599e-03,  1.0880e-03,  6.8617e-03,  ...,  2.1629e-03,\n",
      "           1.0637e-02,  3.2649e-03],\n",
      "         [ 3.2193e-03,  1.6092e-02,  4.6467e-03,  ..., -1.4241e-02,\n",
      "           1.7315e-02, -2.3829e-02],\n",
      "         ...,\n",
      "         [ 9.0158e-03,  9.9414e-03, -2.6103e-03,  ...,  7.3222e-03,\n",
      "          -6.8771e-03, -3.7967e-04],\n",
      "         [-1.6433e-02,  1.5500e-03,  7.2806e-03,  ..., -9.2535e-03,\n",
      "          -4.0779e-03, -2.2188e-02],\n",
      "         [ 5.3219e-03,  1.4848e-02, -2.3174e-02,  ..., -1.9400e-02,\n",
      "           4.0958e-03,  7.2848e-03]],\n",
      "\n",
      "        [[-1.4114e-03,  3.7381e-04,  9.1622e-03,  ..., -4.6649e-03,\n",
      "          -3.0431e-03, -1.0423e-02],\n",
      "         [ 5.7998e-03, -1.9250e-03,  8.9691e-03,  ...,  6.4579e-03,\n",
      "           4.5259e-03, -9.6353e-04],\n",
      "         [-4.7693e-03,  1.0562e-02,  8.0177e-04,  ..., -5.3739e-03,\n",
      "           1.1081e-02, -1.1538e-02],\n",
      "         ...,\n",
      "         [ 7.5278e-03,  2.3852e-03, -1.5681e-03,  ..., -2.7274e-03,\n",
      "          -1.0064e-02,  2.9456e-03],\n",
      "         [-2.2207e-02,  3.6757e-03,  4.2060e-03,  ..., -3.2591e-03,\n",
      "          -7.5797e-03, -5.8362e-03],\n",
      "         [ 9.2616e-03,  1.6633e-02, -1.1980e-02,  ..., -2.5693e-03,\n",
      "          -3.3628e-03,  7.2075e-03]]], device='cuda:0', grad_fn=<MulBackward0>), tensor([[0.0018, 0.0015, 0.0012,  ..., 0.0013, 0.0017, 0.0015],\n",
      "        [0.0018, 0.0015, 0.0012,  ..., 0.0013, 0.0017, 0.0015],\n",
      "        [0.0018, 0.0015, 0.0012,  ..., 0.0013, 0.0017, 0.0015],\n",
      "        ...,\n",
      "        [0.0462, 0.0383, 0.0353,  ..., 0.0265, 0.0254, 0.0445],\n",
      "        [0.0312, 0.0349, 0.0412,  ..., 0.0339, 0.0430, 0.0477],\n",
      "        [0.0236, 0.0309, 0.0308,  ..., 0.0293, 0.0396, 0.0353]],\n",
      "       device='cuda:0', grad_fn=<SqrtBackward0>))\n",
      "outputs[0].shape: torch.Size([18769, 10, 16])\n",
      "targets: tensor([1], device='cuda:0')\n"
     ]
    },
    {
     "name": "stderr",
     "output_type": "stream",
     "text": [
      "\n"
     ]
    },
    {
     "ename": "AttributeError",
     "evalue": "'tuple' object has no attribute 'shape'",
     "output_type": "error",
     "traceback": [
      "\u001b[1;31m---------------------------------------------------------------------------\u001b[0m",
      "\u001b[1;31mAttributeError\u001b[0m                            Traceback (most recent call last)",
      "Cell \u001b[1;32mIn[15], line 4\u001b[0m\n\u001b[0;32m      1\u001b[0m \u001b[38;5;28;01mfrom\u001b[39;00m\u001b[38;5;250m \u001b[39m\u001b[38;5;21;01msrc\u001b[39;00m\u001b[38;5;21;01m.\u001b[39;00m\u001b[38;5;21;01mtrain\u001b[39;00m\u001b[38;5;250m \u001b[39m\u001b[38;5;28;01mimport\u001b[39;00m train\n\u001b[0;32m      2\u001b[0m \u001b[38;5;28;01mfrom\u001b[39;00m\u001b[38;5;250m \u001b[39m\u001b[38;5;21;01msrc\u001b[39;00m\u001b[38;5;21;01m.\u001b[39;00m\u001b[38;5;21;01mutils\u001b[39;00m\u001b[38;5;250m \u001b[39m\u001b[38;5;28;01mimport\u001b[39;00m get_device\n\u001b[1;32m----> 4\u001b[0m history \u001b[38;5;241m=\u001b[39m \u001b[43mtrain\u001b[49m\u001b[43m(\u001b[49m\u001b[43mmodel\u001b[49m\u001b[38;5;241;43m=\u001b[39;49m\u001b[43mmodel\u001b[49m\u001b[43m,\u001b[49m\u001b[43m \u001b[49m\n\u001b[0;32m      5\u001b[0m \u001b[43m    \u001b[49m\u001b[43mtrain_loader\u001b[49m\u001b[38;5;241;43m=\u001b[39;49m\u001b[43mtrain_loader\u001b[49m\u001b[43m,\u001b[49m\u001b[43m \u001b[49m\n\u001b[0;32m      6\u001b[0m \u001b[43m    \u001b[49m\u001b[43mval_loader\u001b[49m\u001b[38;5;241;43m=\u001b[39;49m\u001b[43mval_loader\u001b[49m\u001b[43m,\u001b[49m\u001b[43m \u001b[49m\n\u001b[0;32m      7\u001b[0m \u001b[43m    \u001b[49m\u001b[43mcriterion\u001b[49m\u001b[38;5;241;43m=\u001b[39;49m\u001b[43mmargin_loss\u001b[49m\u001b[43m,\u001b[49m\u001b[43m \u001b[49m\n\u001b[0;32m      8\u001b[0m \u001b[43m    \u001b[49m\u001b[43moptimizer\u001b[49m\u001b[38;5;241;43m=\u001b[39;49m\u001b[43moptimizer\u001b[49m\u001b[43m,\u001b[49m\u001b[43m \u001b[49m\n\u001b[0;32m      9\u001b[0m \u001b[43m    \u001b[49m\u001b[43mnum_epochs\u001b[49m\u001b[38;5;241;43m=\u001b[39;49m\u001b[43mTRAINING_PARAMS\u001b[49m\u001b[43m[\u001b[49m\u001b[38;5;124;43m'\u001b[39;49m\u001b[38;5;124;43mNUM_EPOCHS\u001b[39;49m\u001b[38;5;124;43m'\u001b[39;49m\u001b[43m]\u001b[49m\u001b[43m,\u001b[49m\u001b[43m \u001b[49m\n\u001b[0;32m     10\u001b[0m \u001b[43m    \u001b[49m\u001b[43mdevice\u001b[49m\u001b[38;5;241;43m=\u001b[39;49m\u001b[43mget_device\u001b[49m\u001b[43m(\u001b[49m\u001b[43m)\u001b[49m\u001b[43m,\u001b[49m\n\u001b[0;32m     11\u001b[0m \u001b[43m    \u001b[49m\u001b[43mmetrics\u001b[49m\u001b[38;5;241;43m=\u001b[39;49m\u001b[43mmetrics\u001b[49m\u001b[43m,\u001b[49m\n\u001b[0;32m     12\u001b[0m \u001b[43m    \u001b[49m\u001b[43mprint_every\u001b[49m\u001b[38;5;241;43m=\u001b[39;49m\u001b[43mTRAINING_PARAMS\u001b[49m\u001b[43m[\u001b[49m\u001b[38;5;124;43m'\u001b[39;49m\u001b[38;5;124;43mPRINT_EVERY\u001b[39;49m\u001b[38;5;124;43m'\u001b[39;49m\u001b[43m]\u001b[49m\u001b[43m,\u001b[49m\n\u001b[0;32m     13\u001b[0m \u001b[43m    \u001b[49m\u001b[43msave_patience\u001b[49m\u001b[38;5;241;43m=\u001b[39;49m\u001b[43mTRAINING_PARAMS\u001b[49m\u001b[43m[\u001b[49m\u001b[38;5;124;43m'\u001b[39;49m\u001b[38;5;124;43mSAVE_PATIENCE\u001b[39;49m\u001b[38;5;124;43m'\u001b[39;49m\u001b[43m]\u001b[49m\u001b[43m,\u001b[49m\n\u001b[0;32m     14\u001b[0m \u001b[43m    \u001b[49m\u001b[43msave_path\u001b[49m\u001b[38;5;241;43m=\u001b[39;49m\u001b[43mTRAINING_PARAMS\u001b[49m\u001b[43m[\u001b[49m\u001b[38;5;124;43m'\u001b[39;49m\u001b[38;5;124;43mSAVE_PATH\u001b[39;49m\u001b[38;5;124;43m'\u001b[39;49m\u001b[43m]\u001b[49m\u001b[43m,\u001b[49m\n\u001b[0;32m     15\u001b[0m \u001b[43m    \u001b[49m\u001b[43msave_model\u001b[49m\u001b[38;5;241;43m=\u001b[39;49m\u001b[43mTRAINING_PARAMS\u001b[49m\u001b[43m[\u001b[49m\u001b[38;5;124;43m'\u001b[39;49m\u001b[38;5;124;43mSAVE_MODEL\u001b[39;49m\u001b[38;5;124;43m'\u001b[39;49m\u001b[43m]\u001b[49m\u001b[43m,\u001b[49m\n\u001b[0;32m     16\u001b[0m \u001b[43m    \u001b[49m\u001b[43msave_metrics\u001b[49m\u001b[38;5;241;43m=\u001b[39;49m\u001b[43mTRAINING_PARAMS\u001b[49m\u001b[43m[\u001b[49m\u001b[38;5;124;43m'\u001b[39;49m\u001b[38;5;124;43mSAVE_METRICS\u001b[39;49m\u001b[38;5;124;43m'\u001b[39;49m\u001b[43m]\u001b[49m\n\u001b[0;32m     17\u001b[0m \u001b[43m    \u001b[49m\u001b[43m)\u001b[49m\n",
      "File \u001b[1;32mc:\\Users\\Yuno\\Documents\\Kuliah Sarjana\\Project\\XDL_Collitis\\src\\train.py:67\u001b[0m, in \u001b[0;36mtrain\u001b[1;34m(model, train_loader, val_loader, criterion, optimizer, num_epochs, device, metrics, print_every, save_patience, save_path, save_model, save_metrics)\u001b[0m\n\u001b[0;32m     64\u001b[0m \u001b[38;5;28mprint\u001b[39m(\u001b[38;5;124mf\u001b[39m\u001b[38;5;124m\"\u001b[39m\u001b[38;5;124moutputs[0].shape: \u001b[39m\u001b[38;5;132;01m{\u001b[39;00moutputs[\u001b[38;5;241m0\u001b[39m]\u001b[38;5;241m.\u001b[39mshape\u001b[38;5;132;01m}\u001b[39;00m\u001b[38;5;124m\"\u001b[39m)\n\u001b[0;32m     65\u001b[0m \u001b[38;5;28mprint\u001b[39m(\u001b[38;5;124mf\u001b[39m\u001b[38;5;124m\"\u001b[39m\u001b[38;5;124mtargets: \u001b[39m\u001b[38;5;132;01m{\u001b[39;00mtargets\u001b[38;5;132;01m}\u001b[39;00m\u001b[38;5;124m\"\u001b[39m)\n\u001b[1;32m---> 67\u001b[0m loss \u001b[38;5;241m=\u001b[39m \u001b[43mcriterion\u001b[49m\u001b[43m(\u001b[49m\u001b[43moutputs\u001b[49m\u001b[43m,\u001b[49m\u001b[43m \u001b[49m\u001b[43mtargets\u001b[49m\u001b[43m)\u001b[49m\n\u001b[0;32m     68\u001b[0m loss\u001b[38;5;241m.\u001b[39mbackward()\n\u001b[0;32m     69\u001b[0m optimizer\u001b[38;5;241m.\u001b[39mstep()\n",
      "File \u001b[1;32mc:\\Users\\Yuno\\anaconda3\\envs\\xdl-env\\lib\\site-packages\\torch\\nn\\modules\\module.py:1751\u001b[0m, in \u001b[0;36mModule._wrapped_call_impl\u001b[1;34m(self, *args, **kwargs)\u001b[0m\n\u001b[0;32m   1749\u001b[0m     \u001b[38;5;28;01mreturn\u001b[39;00m \u001b[38;5;28mself\u001b[39m\u001b[38;5;241m.\u001b[39m_compiled_call_impl(\u001b[38;5;241m*\u001b[39margs, \u001b[38;5;241m*\u001b[39m\u001b[38;5;241m*\u001b[39mkwargs)  \u001b[38;5;66;03m# type: ignore[misc]\u001b[39;00m\n\u001b[0;32m   1750\u001b[0m \u001b[38;5;28;01melse\u001b[39;00m:\n\u001b[1;32m-> 1751\u001b[0m     \u001b[38;5;28;01mreturn\u001b[39;00m \u001b[38;5;28mself\u001b[39m\u001b[38;5;241m.\u001b[39m_call_impl(\u001b[38;5;241m*\u001b[39margs, \u001b[38;5;241m*\u001b[39m\u001b[38;5;241m*\u001b[39mkwargs)\n",
      "File \u001b[1;32mc:\\Users\\Yuno\\anaconda3\\envs\\xdl-env\\lib\\site-packages\\torch\\nn\\modules\\module.py:1762\u001b[0m, in \u001b[0;36mModule._call_impl\u001b[1;34m(self, *args, **kwargs)\u001b[0m\n\u001b[0;32m   1757\u001b[0m \u001b[38;5;66;03m# If we don't have any hooks, we want to skip the rest of the logic in\u001b[39;00m\n\u001b[0;32m   1758\u001b[0m \u001b[38;5;66;03m# this function, and just call forward.\u001b[39;00m\n\u001b[0;32m   1759\u001b[0m \u001b[38;5;28;01mif\u001b[39;00m \u001b[38;5;129;01mnot\u001b[39;00m (\u001b[38;5;28mself\u001b[39m\u001b[38;5;241m.\u001b[39m_backward_hooks \u001b[38;5;129;01mor\u001b[39;00m \u001b[38;5;28mself\u001b[39m\u001b[38;5;241m.\u001b[39m_backward_pre_hooks \u001b[38;5;129;01mor\u001b[39;00m \u001b[38;5;28mself\u001b[39m\u001b[38;5;241m.\u001b[39m_forward_hooks \u001b[38;5;129;01mor\u001b[39;00m \u001b[38;5;28mself\u001b[39m\u001b[38;5;241m.\u001b[39m_forward_pre_hooks\n\u001b[0;32m   1760\u001b[0m         \u001b[38;5;129;01mor\u001b[39;00m _global_backward_pre_hooks \u001b[38;5;129;01mor\u001b[39;00m _global_backward_hooks\n\u001b[0;32m   1761\u001b[0m         \u001b[38;5;129;01mor\u001b[39;00m _global_forward_hooks \u001b[38;5;129;01mor\u001b[39;00m _global_forward_pre_hooks):\n\u001b[1;32m-> 1762\u001b[0m     \u001b[38;5;28;01mreturn\u001b[39;00m forward_call(\u001b[38;5;241m*\u001b[39margs, \u001b[38;5;241m*\u001b[39m\u001b[38;5;241m*\u001b[39mkwargs)\n\u001b[0;32m   1764\u001b[0m result \u001b[38;5;241m=\u001b[39m \u001b[38;5;28;01mNone\u001b[39;00m\n\u001b[0;32m   1765\u001b[0m called_always_called_hooks \u001b[38;5;241m=\u001b[39m \u001b[38;5;28mset\u001b[39m()\n",
      "File \u001b[1;32mc:\\Users\\Yuno\\Documents\\Kuliah Sarjana\\Project\\XDL_Collitis\\src\\loss.py:20\u001b[0m, in \u001b[0;36mMarginLoss.forward\u001b[1;34m(self, targets, model_output)\u001b[0m\n\u001b[0;32m     17\u001b[0m     digit_probs \u001b[38;5;241m=\u001b[39m model_output\n\u001b[0;32m     19\u001b[0m \u001b[38;5;66;03m# Convert targets to one-hot encoding if needed\u001b[39;00m\n\u001b[1;32m---> 20\u001b[0m \u001b[38;5;28;01mif\u001b[39;00m \u001b[38;5;28mlen\u001b[39m(\u001b[43mtargets\u001b[49m\u001b[38;5;241;43m.\u001b[39;49m\u001b[43mshape\u001b[49m) \u001b[38;5;241m==\u001b[39m \u001b[38;5;241m1\u001b[39m:\n\u001b[0;32m     21\u001b[0m     targets \u001b[38;5;241m=\u001b[39m torch\u001b[38;5;241m.\u001b[39mnn\u001b[38;5;241m.\u001b[39mfunctional\u001b[38;5;241m.\u001b[39mone_hot(targets, num_classes\u001b[38;5;241m=\u001b[39mdigit_probs\u001b[38;5;241m.\u001b[39mshape[\u001b[38;5;241m1\u001b[39m])\n\u001b[0;32m     23\u001b[0m present_losses \u001b[38;5;241m=\u001b[39m (\n\u001b[0;32m     24\u001b[0m     targets \u001b[38;5;241m*\u001b[39m torch\u001b[38;5;241m.\u001b[39mclamp_min(\u001b[38;5;28mself\u001b[39m\u001b[38;5;241m.\u001b[39mm_pos \u001b[38;5;241m-\u001b[39m digit_probs, \u001b[38;5;28mmin\u001b[39m\u001b[38;5;241m=\u001b[39m\u001b[38;5;241m0.0\u001b[39m) \u001b[38;5;241m*\u001b[39m\u001b[38;5;241m*\u001b[39m \u001b[38;5;241m2\u001b[39m\n\u001b[0;32m     25\u001b[0m )\n",
      "\u001b[1;31mAttributeError\u001b[0m: 'tuple' object has no attribute 'shape'"
     ]
    }
   ],
   "source": [
    "from src.train import train\n",
    "from src.utils import get_device\n",
    "\n",
    "history = train(model=model, \n",
    "    train_loader=train_loader, \n",
    "    val_loader=val_loader, \n",
    "    criterion=margin_loss, \n",
    "    optimizer=optimizer, \n",
    "    num_epochs=TRAINING_PARAMS['NUM_EPOCHS'], \n",
    "    device=get_device(),\n",
    "    metrics=metrics,\n",
    "    print_every=TRAINING_PARAMS['PRINT_EVERY'],\n",
    "    save_patience=TRAINING_PARAMS['SAVE_PATIENCE'],\n",
    "    save_path=TRAINING_PARAMS['SAVE_PATH'],\n",
    "    save_model=TRAINING_PARAMS['SAVE_MODEL'],\n",
    "    save_metrics=TRAINING_PARAMS['SAVE_METRICS']\n",
    "    )\n"
   ]
  }
 ],
 "metadata": {
  "kernelspec": {
   "display_name": "xdl-env",
   "language": "python",
   "name": "python3"
  },
  "language_info": {
   "codemirror_mode": {
    "name": "ipython",
    "version": 3
   },
   "file_extension": ".py",
   "mimetype": "text/x-python",
   "name": "python",
   "nbconvert_exporter": "python",
   "pygments_lexer": "ipython3",
   "version": "3.10.16"
  }
 },
 "nbformat": 4,
 "nbformat_minor": 2
}
