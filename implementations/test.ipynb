{
 "cells": [
  {
   "cell_type": "code",
   "execution_count": 1,
   "metadata": {},
   "outputs": [],
   "source": [
    "import os\n",
    "import pandas as pd\n",
    "import yaml"
   ]
  },
  {
   "cell_type": "code",
   "execution_count": 10,
   "metadata": {},
   "outputs": [],
   "source": [
    "DATASET_PARAMS = yaml.load(open(\"../configs/dataset.yaml\"), Loader=yaml.SafeLoader)\n",
    "PREPROCESSING_PARAMS = yaml.load(open(\"../configs/preprocessing.yaml\"), Loader=yaml.SafeLoader)"
   ]
  },
  {
   "cell_type": "code",
   "execution_count": null,
   "metadata": {},
   "outputs": [],
   "source": [
    "categories =  [\"1\", \"2\", \"3\"]\n",
    "\n",
    "BASE_DIR = \"/content/drive/My Drive/Proyek Klasifikasi UC\"\n",
    "DATASET_DIR = \"/content/drive/My Drive/Proyek Klasifikasi UC/datasets/UC completed split dataset_2\"\n",
    "PROBLEM = 'UC Only_LIMUC'\n",
    "\n",
    "AUGMENTED_TRAIN_DIR = os.path.join(DATASET_DIR, \"augmented_train\")\n",
    "TRAIN_DIR = os.path.join(DATASET_DIR, \"train\")\n",
    "VAL_DIR = os.path.join(DATASET_DIR, \"val\")\n",
    "TEST_DIR = os.path.join(DATASET_DIR, \"test\")"
   ]
  },
  {
   "cell_type": "code",
   "execution_count": null,
   "metadata": {},
   "outputs": [],
   "source": [
    "def get_filenames(dataset_path):\n",
    "    # Get the list of file names\n",
    "    filenames = os.listdir(dataset_path)\n",
    "    filenames.sort()\n",
    "\n",
    "    return filenames\n",
    "\n",
    "def generate_filenames_df(dataset_dir, categories):\n",
    "    full_filenames = {\"image_path\": [], \"class\": []}\n",
    "\n",
    "    for category in categories:\n",
    "        full_filenames_temp = get_filenames(os.path.join(dataset_dir, category))\n",
    "\n",
    "        for i in range(len(full_filenames_temp)):\n",
    "            full_filenames_temp[i] = os.path.join(dataset_dir, category, full_filenames_temp[i])\n",
    "\n",
    "        full_filenames[\"image_path\"].extend(full_filenames_temp)\n",
    "        full_filenames[\"class\"].extend([category] * len(full_filenames_temp))\n",
    "\n",
    "    full_filenames_df = pd.DataFrame.from_dict(full_filenames)\n",
    "\n",
    "    return full_filenames_df"
   ]
  },
  {
   "cell_type": "code",
   "execution_count": null,
   "metadata": {},
   "outputs": [],
   "source": [
    "train_filenames_df = generate_filenames_df(TRAIN_DIR, categories)\n",
    "val_filenames_df = generate_filenames_df(VAL_DIR, categories)\n",
    "test_filenames_df = generate_filenames_df(TEST_DIR, categories)"
   ]
  },
  {
   "cell_type": "code",
   "execution_count": null,
   "metadata": {},
   "outputs": [],
   "source": [
    "def get_source(data_path):\n",
    "    return data_path.split('/')[-1].split('_')[0]"
   ]
  },
  {
   "cell_type": "code",
   "execution_count": null,
   "metadata": {},
   "outputs": [],
   "source": [
    "check_train_df = train_filenames_df.copy()\n",
    "check_val_df = val_filenames_df.copy()\n",
    "check_test_df = test_filenames_df.copy()\n",
    "\n",
    "check_train_df['source'] = check_train_df['image_path'].apply(get_source)\n",
    "check_val_df['source'] = check_val_df['image_path'].apply(get_source)\n",
    "check_test_df['source'] = check_test_df['image_path'].apply(get_source)"
   ]
  },
  {
   "cell_type": "code",
   "execution_count": null,
   "metadata": {},
   "outputs": [
    {
     "data": {
      "text/plain": [
       "array(['Changshu Hospital UC images based on mayo scores', 'HyperKvasir ',\n",
       "       'LIMUC'], dtype=object)"
      ]
     },
     "metadata": {},
     "output_type": "display_data"
    }
   ],
   "source": [
    "check_train_df['source'].unique()"
   ]
  },
  {
   "cell_type": "code",
   "execution_count": null,
   "metadata": {},
   "outputs": [],
   "source": [
    "use_train_filenames_df = check_train_df[check_train_df[\"source\"] == \"LIMUC\"]\n",
    "use_val_filenames_df = check_val_df[check_val_df[\"source\"] == \"LIMUC\"]\n",
    "use_test_filenames_df = check_test_df[check_test_df[\"source\"] == \"LIMUC\"]\n",
    "use_train_filenames_df"
   ]
  },
  {
   "cell_type": "code",
   "execution_count": null,
   "metadata": {},
   "outputs": [],
   "source": [
    "use_train_filenames_df"
   ]
  },
  {
   "cell_type": "code",
   "execution_count": null,
   "metadata": {},
   "outputs": [],
   "source": [
    "from src.loader import Loader\n",
    "train_loader = Loader(use_train_filenames_df, \n",
    "                     batch_size=16, \n",
    "                     num_workers=4, \n",
    "                     transform=transform, \n",
    "                     shuffle=True)\n",
    " \n"
   ]
  }
 ],
 "metadata": {
  "kernelspec": {
   "display_name": "'gca_rom'",
   "language": "python",
   "name": "python3"
  },
  "language_info": {
   "codemirror_mode": {
    "name": "ipython",
    "version": 3
   },
   "file_extension": ".py",
   "mimetype": "text/x-python",
   "name": "python",
   "nbconvert_exporter": "python",
   "pygments_lexer": "ipython3",
   "version": "3.10.16"
  }
 },
 "nbformat": 4,
 "nbformat_minor": 2
}
